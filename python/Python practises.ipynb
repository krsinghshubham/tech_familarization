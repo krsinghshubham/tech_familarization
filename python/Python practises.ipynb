{
 "cells": [
  {
   "cell_type": "markdown",
   "metadata": {},
   "source": [
    "python mqsql import"
   ]
  },
  {
   "cell_type": "code",
   "execution_count": 1,
   "metadata": {},
   "outputs": [],
   "source": [
    "# import mysql.connector\n",
    "\n",
    "# db = mysql.connector.connect(\n",
    "#     host=\"localhost\", user=\"shubham\", passwd=\"root\", database=\"testdatabase\"\n",
    "# )\n",
    "# mycursor=db.cursor()"
   ]
  },
  {
   "cell_type": "markdown",
   "metadata": {},
   "source": [
    "loop iterations\n"
   ]
  },
  {
   "cell_type": "code",
   "execution_count": 2,
   "metadata": {},
   "outputs": [
    {
     "name": "stdout",
     "output_type": "stream",
     "text": [
      "3\n",
      "43\n",
      "53\n",
      "35\n",
      "5353\n"
     ]
    }
   ],
   "source": [
    "m=[3,43,53,35,5353]\n",
    "i=0\n",
    "while i<len(m):\n",
    "    print(m[i])\n",
    "    i+=1"
   ]
  },
  {
   "cell_type": "markdown",
   "metadata": {},
   "source": [
    "functions"
   ]
  },
  {
   "cell_type": "code",
   "execution_count": 3,
   "metadata": {},
   "outputs": [
    {
     "name": "stdout",
     "output_type": "stream",
     "text": [
      "3\n",
      "43\n",
      "53\n",
      "35\n",
      "5353\n"
     ]
    }
   ],
   "source": [
    "m=[3,43,53,35,5353]\n",
    "i=0\n",
    "while i<len(m):\n",
    "    print(m[i])\n",
    "    i+=1"
   ]
  },
  {
   "cell_type": "markdown",
   "metadata": {},
   "source": [
    "dockstring"
   ]
  },
  {
   "cell_type": "code",
   "execution_count": 1,
   "metadata": {},
   "outputs": [],
   "source": [
    "def fun(a):\n",
    "    '''\n",
    "    this demonstrate dockstring\n",
    "    '''\n",
    "    print(\"allo chakundar\")"
   ]
  },
  {
   "cell_type": "code",
   "execution_count": 3,
   "metadata": {},
   "outputs": [
    {
     "name": "stdout",
     "output_type": "stream",
     "text": [
      "allo chakundar\n"
     ]
    }
   ],
   "source": [
    "fun(\"jjjjj\")"
   ]
  },
  {
   "cell_type": "code",
   "execution_count": 4,
   "metadata": {},
   "outputs": [
    {
     "name": "stdout",
     "output_type": "stream",
     "text": [
      "Help on function fun in module __main__:\n",
      "\n",
      "fun(a)\n",
      "    this demonstrate dockstring\n",
      "\n"
     ]
    }
   ],
   "source": [
    "help(fun)"
   ]
  },
  {
   "cell_type": "code",
   "execution_count": 13,
   "metadata": {},
   "outputs": [
    {
     "data": {
      "text/plain": [
       "'\\n    this demonstrate dockstring\\n    '"
      ]
     },
     "execution_count": 13,
     "metadata": {},
     "output_type": "execute_result"
    }
   ],
   "source": [
    "fun.__doc__"
   ]
  },
  {
   "cell_type": "markdown",
   "metadata": {},
   "source": [
    "args and kwargs"
   ]
  },
  {
   "cell_type": "code",
   "execution_count": 1,
   "metadata": {},
   "outputs": [
    {
     "name": "stdout",
     "output_type": "stream",
     "text": [
      "1037\n"
     ]
    }
   ],
   "source": [
    "def fun(*args,**kwargs):\n",
    "#name can be anything\n",
    "    total=0\n",
    "    for i in kwargs.values():\n",
    "        total+=i\n",
    "    return total+sum(args)\n",
    "\n",
    "print(fun(4,45,4,352,453,32,2,42,num1=4,dfd=45,gdfg=54))"
   ]
  },
  {
   "cell_type": "code",
   "execution_count": 17,
   "metadata": {},
   "outputs": [
    {
     "name": "stdout",
     "output_type": "stream",
     "text": [
      "<class 'function'>\n"
     ]
    }
   ],
   "source": [
    "print(type(fun))"
   ]
  },
  {
   "cell_type": "markdown",
   "metadata": {},
   "source": [
    "exer print highest even in list"
   ]
  },
  {
   "cell_type": "code",
   "execution_count": 4,
   "metadata": {},
   "outputs": [
    {
     "name": "stdout",
     "output_type": "stream",
     "text": [
      "<class 'list'>\n",
      "342\n"
     ]
    }
   ],
   "source": [
    "def hprime(li):\n",
    "    maxm=0\n",
    "    for i in li:\n",
    "        if i>maxm and i%2==0:\n",
    "            \n",
    "            maxm=i\n",
    "    return maxm\n",
    "print(hprime([10,2,33,23,37,342]))"
   ]
  },
  {
   "cell_type": "code",
   "execution_count": 2,
   "metadata": {},
   "outputs": [
    {
     "name": "stdout",
     "output_type": "stream",
     "text": [
      "<class 'int'>\n",
      "<class 'int'>\n",
      "<class 'int'>\n",
      "342\n"
     ]
    }
   ],
   "source": [
    "def hprime(li):\n",
    "    even=[]\n",
    "    for i in li:\n",
    "        if i%2==0:\n",
    "            even.append(i)\n",
    "            print(type(i))\n",
    "    return max(even)\n",
    "print(hprime([10,2,33,23,37,342]))"
   ]
  },
  {
   "cell_type": "markdown",
   "metadata": {},
   "source": [
    "ADVANCED PYTHON CONCEPTS."
   ]
  },
  {
   "cell_type": "markdown",
   "metadata": {},
   "source": [
    "classes and creating objects : EXERCISE down"
   ]
  },
  {
   "cell_type": "code",
   "execution_count": 10,
   "metadata": {},
   "outputs": [
    {
     "name": "stdout",
     "output_type": "stream",
     "text": [
      "The oldest cat is 13 years old.\n"
     ]
    }
   ],
   "source": [
    "#Given the below class:\n",
    "class Cat:\n",
    "    species = 'mammal'\n",
    "    def __init__(self, name, age):\n",
    "        self.name = name\n",
    "        self.age = age\n",
    "# 1 Instantiate the Cat object with 3 cats\n",
    "cat1=Cat('bilai',12)\n",
    "cat2=Cat('bilar',13)\n",
    "cat3=Cat('bilara',13)\n",
    "# 2 Create a function that finds the oldest cat\n",
    "def oldest(*args):\n",
    "    return max(args)\n",
    "# 3 Print out: \"The oldest cat is x years old.\". x will be the oldest cat age by using the function in #2\n",
    "print(f\"The oldest cat is {oldest(cat1.age,cat2.age, cat3.age)} years old.\")"
   ]
  },
  {
   "cell_type": "code",
   "execution_count": null,
   "metadata": {},
   "outputs": [],
   "source": []
  }
 ],
 "metadata": {
  "kernelspec": {
   "display_name": "Python 3",
   "language": "python",
   "name": "python3"
  },
  "language_info": {
   "codemirror_mode": {
    "name": "ipython",
    "version": 3
   },
   "file_extension": ".py",
   "mimetype": "text/x-python",
   "name": "python",
   "nbconvert_exporter": "python",
   "pygments_lexer": "ipython3",
   "version": "3.7.4"
  }
 },
 "nbformat": 4,
 "nbformat_minor": 2
}
